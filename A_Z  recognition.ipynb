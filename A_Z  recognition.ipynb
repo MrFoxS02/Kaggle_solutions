{
  "cells": [
    {
      "cell_type": "code",
      "execution_count": null,
      "metadata": {
        "id": "5771b79a"
      },
      "outputs": [],
      "source": [
        "import pandas as pd\n",
        "import numpy as np\n",
        "from matplotlib import pyplot as plt\n",
        "from sklearn.model_selection import train_test_split\n",
        "from PIL import Image\n",
        "from sklearn.model_selection import train_test_split\n",
        "from sklearn.preprocessing import MinMaxScaler\n",
        "from sklearn.utils import shuffle\n",
        "from keras.utils import np_utils"
      ],
      "id": "5771b79a"
    },
    {
      "cell_type": "markdown",
      "source": [
        "# Новый раздел"
      ],
      "metadata": {
        "id": "S5jZ26waMtvS"
      },
      "id": "S5jZ26waMtvS"
    },
    {
      "cell_type": "code",
      "execution_count": null,
      "metadata": {
        "id": "cE8JlLM47Ij-"
      },
      "outputs": [],
      "source": [
        "from keras.models import Sequential\n",
        "from keras.layers import Dense\n",
        "from keras.layers import Dropout\n",
        "from keras.layers import Flatten\n",
        "from keras.layers import Activation\n",
        "from keras.layers.convolutional import Conv2D\n",
        "from keras.layers.convolutional import MaxPooling2D\n",
        "# from keras.optimizers import SGD, Adam\n",
        "from keras.callbacks import ReduceLROnPlateau, EarlyStopping\n",
        "from keras import backend as K\n",
        "from keras.utils import np_utils\n",
        "from sklearn.model_selection import train_test_split\n",
        "from sklearn.metrics import confusion_matrix\n",
        "from scipy import optimize\n",
        "from keras.callbacks import ModelCheckpoint, EarlyStopping\n",
        "from keras.models import load_model"
      ],
      "id": "cE8JlLM47Ij-"
    },
    {
      "cell_type": "code",
      "execution_count": null,
      "metadata": {
        "id": "4945df5e"
      },
      "outputs": [],
      "source": [
        "df = shuffle(pd.read_csv('A_Z Handwritten Data.csv'), n_samples=10000)\n",
        "# df_noize = pd.read_csv('out.csv')"
      ],
      "id": "4945df5e"
    },
    {
      "cell_type": "code",
      "source": [
        "df_noize = shuffle(pd.read_csv('out.csv'), n_samples=10000)"
      ],
      "metadata": {
        "id": "82p0EXAEJE94"
      },
      "id": "82p0EXAEJE94",
      "execution_count": null,
      "outputs": []
    },
    {
      "cell_type": "code",
      "execution_count": null,
      "metadata": {
        "id": "ca6abd14"
      },
      "outputs": [],
      "source": [
        "word_dict = {\n",
        "    0:'A',1:'B',2:'C',3:'D',4:'E',5:'F',6:'G',7:'H',8:'I',9:'J',10:'K',11:'L',12:'M',13:'N',14:'O',15:'P',16:'Q',17:'R',18:'S',19:'T',20:'U',21:'V',22:'W',23:'X', 24:'Y',25:'Z'\n",
        "}"
      ],
      "id": "ca6abd14"
    },
    {
      "cell_type": "code",
      "execution_count": null,
      "metadata": {
        "id": "Uj1wEq0QCLEE"
      },
      "outputs": [],
      "source": [
        "X = df.drop('0',axis = 1)\n",
        "y = df['0']\n",
        "X_n = df_noize.drop('0',axis = 1)\n",
        "y_n = df_noize['0']"
      ],
      "id": "Uj1wEq0QCLEE"
    },
    {
      "cell_type": "code",
      "execution_count": null,
      "metadata": {
        "id": "R-4p_tKqWd0M"
      },
      "outputs": [],
      "source": [
        "x_train, x_test, y_train, y_test = train_test_split(X, y, test_size = 0.2)\n",
        "x_train = np.reshape(x_train.values, (x_train.shape[0], 28, 28))\n",
        "x_test = np.reshape(x_test.values, (x_test.shape[0], 28, 28))"
      ],
      "id": "R-4p_tKqWd0M"
    },
    {
      "cell_type": "code",
      "source": [
        "y_nn = y_n.replace(255, 25)"
      ],
      "metadata": {
        "id": "hyK9G5Z9QO76"
      },
      "id": "hyK9G5Z9QO76",
      "execution_count": null,
      "outputs": []
    },
    {
      "cell_type": "code",
      "source": [
        "x_n_train, x_n_test, y_n_train, y_n_test = train_test_split(X_n, y_nn, test_size = 0.01)"
      ],
      "metadata": {
        "id": "zmz3qlzIDmYR"
      },
      "id": "zmz3qlzIDmYR",
      "execution_count": null,
      "outputs": []
    },
    {
      "cell_type": "code",
      "source": [
        "xx_n_train = []\n",
        "for x in range(len(x_n_train)):\n",
        "  xx_n_train.append(np.array(x_n_train.iloc[x][1:]).reshape(28, 28))"
      ],
      "metadata": {
        "id": "r3NNOFSmMihG"
      },
      "id": "r3NNOFSmMihG",
      "execution_count": null,
      "outputs": []
    },
    {
      "cell_type": "code",
      "source": [
        "xx_n_train = np.array(xx_n_train)"
      ],
      "metadata": {
        "id": "gHrZCHOENNgs"
      },
      "id": "gHrZCHOENNgs",
      "execution_count": null,
      "outputs": []
    },
    {
      "cell_type": "code",
      "source": [
        "plt.imshow(xx_n_train[0])\n",
        "print(np.array(y_n)[0])"
      ],
      "metadata": {
        "colab": {
          "base_uri": "https://localhost:8080/",
          "height": 282
        },
        "id": "01WqOqitJwmi",
        "outputId": "a5edc1df-0682-46af-a2e7-0ae142605f89"
      },
      "id": "01WqOqitJwmi",
      "execution_count": null,
      "outputs": [
        {
          "output_type": "stream",
          "name": "stdout",
          "text": [
            "15\n"
          ]
        },
        {
          "output_type": "display_data",
          "data": {
            "text/plain": [
              "<Figure size 432x288 with 1 Axes>"
            ],
            "image/png": "[encoded data removed]"
          },
          "metadata": {
            "needs_background": "light"
          }
        }
      ]
    },
    {
      "cell_type": "code",
      "execution_count": null,
      "metadata": {
        "colab": {
          "base_uri": "https://localhost:8080/"
        },
        "id": "_5EosD9cWd-b",
        "outputId": "08eac5a4-2e91-4069-d015-29f5c804b94b"
      },
      "outputs": [
        {
          "output_type": "stream",
          "name": "stdout",
          "text": [
            "New shape of train data: (8000, 28, 28, 1)\n",
            "New shape of test data: (2000, 28, 28, 1)\n"
          ]
        }
      ],
      "source": [
        "x_train = x_train.reshape(x_train.shape[0], x_train.shape[1], x_train.shape[2], 1)\n",
        "print(\"New shape of train data:\", x_train.shape)\n",
        "\n",
        "x_test = x_test.reshape(x_test.shape[0], x_test.shape[1], x_test.shape[2], 1)\n",
        "print(\"New shape of test data:\", x_test.shape)"
      ],
      "id": "_5EosD9cWd-b"
    },
    {
      "cell_type": "code",
      "source": [
        "x_n_train = xx_n_train.reshape(xx_n_train.shape[0], xx_n_train.shape[1], xx_n_train.shape[2], 1)\n",
        "print(\"New shape of train data:\", x_n_train.shape)"
      ],
      "metadata": {
        "colab": {
          "base_uri": "https://localhost:8080/"
        },
        "id": "Pi5DcSBoD2td",
        "outputId": "ae9eb1b0-bb58-43ce-e9f3-b85bec85b430"
      },
      "id": "Pi5DcSBoD2td",
      "execution_count": null,
      "outputs": [
        {
          "output_type": "stream",
          "name": "stdout",
          "text": [
            "New shape of train data: (9900, 28, 28, 1)\n"
          ]
        }
      ]
    },
    {
      "cell_type": "code",
      "execution_count": null,
      "metadata": {
        "id": "f6_W2FaF8JB0"
      },
      "outputs": [],
      "source": [
        "y_train = np_utils.to_categorical(y_train)\n",
        "y_test = np_utils.to_categorical(y_test)"
      ],
      "id": "f6_W2FaF8JB0"
    },
    {
      "cell_type": "code",
      "source": [
        "y_n_train = np_utils.to_categorical(y_n_train)"
      ],
      "metadata": {
        "id": "wT7SI4OnOBWP"
      },
      "id": "wT7SI4OnOBWP",
      "execution_count": null,
      "outputs": []
    },
    {
      "cell_type": "code",
      "source": [
        "x_train.shape"
      ],
      "metadata": {
        "colab": {
          "base_uri": "https://localhost:8080/"
        },
        "id": "aSjdShCbP3n4",
        "outputId": "b7c0ef0b-b177-4f1b-bb73-3b2af7c36983"
      },
      "id": "aSjdShCbP3n4",
      "execution_count": null,
      "outputs": [
        {
          "output_type": "execute_result",
          "data": {
            "text/plain": [
              "(8000, 28, 28, 1)"
            ]
          },
          "metadata": {},
          "execution_count": 17
        }
      ]
    },
    {
      "cell_type": "code",
      "source": [
        "x_n_train.shape"
      ],
      "metadata": {
        "colab": {
          "base_uri": "https://localhost:8080/"
        },
        "id": "YYAhs0NyQAP8",
        "outputId": "cabd1151-3a27-45ff-9ca6-ac201ef8b1cc"
      },
      "id": "YYAhs0NyQAP8",
      "execution_count": null,
      "outputs": [
        {
          "output_type": "execute_result",
          "data": {
            "text/plain": [
              "(9900, 28, 28, 1)"
            ]
          },
          "metadata": {},
          "execution_count": 18
        }
      ]
    },
    {
      "cell_type": "code",
      "source": [
        "y_n_train.shape"
      ],
      "metadata": {
        "colab": {
          "base_uri": "https://localhost:8080/"
        },
        "id": "2Gwof_dzQEf4",
        "outputId": "09fea1a0-7ff7-4d30-af31-b181b12a6d46"
      },
      "id": "2Gwof_dzQEf4",
      "execution_count": null,
      "outputs": [
        {
          "output_type": "execute_result",
          "data": {
            "text/plain": [
              "(9900, 26)"
            ]
          },
          "metadata": {},
          "execution_count": 19
        }
      ]
    },
    {
      "cell_type": "code",
      "source": [
        "y_train.shape"
      ],
      "metadata": {
        "colab": {
          "base_uri": "https://localhost:8080/"
        },
        "id": "XzVvPYTXQIWe",
        "outputId": "dfbc365a-b6da-45e0-ee52-474b04e23229"
      },
      "id": "XzVvPYTXQIWe",
      "execution_count": null,
      "outputs": [
        {
          "output_type": "execute_result",
          "data": {
            "text/plain": [
              "(8000, 26)"
            ]
          },
          "metadata": {},
          "execution_count": 20
        }
      ]
    },
    {
      "cell_type": "code",
      "execution_count": null,
      "metadata": {
        "id": "nDJI9oxtWeIq"
      },
      "outputs": [],
      "source": [
        "model1 = Sequential()\n",
        "model1.add(Conv2D(filters=32, kernel_size=(3, 3), activation='relu', input_shape=(28,28,1)))\n",
        "model1.add(Flatten())\n",
        "model1.add(Dense(128,activation =\"relu\"))\n",
        "model1.add(Dense(26,activation =\"softmax\"))"
      ],
      "id": "nDJI9oxtWeIq"
    },
    {
      "cell_type": "code",
      "execution_count": null,
      "metadata": {
        "id": "ktkeyMDVWeLs"
      },
      "outputs": [],
      "source": [
        " model1.compile(optimizer='adam', loss='categorical_crossentropy', metrics=['accuracy'])"
      ],
      "id": "ktkeyMDVWeLs"
    },
    {
      "cell_type": "code",
      "execution_count": null,
      "metadata": {
        "colab": {
          "base_uri": "https://localhost:8080/"
        },
        "id": "0HJkG4On7hVg",
        "outputId": "2854470b-bf64-4097-ab9c-55acec9b8756"
      },
      "outputs": [
        {
          "output_type": "stream",
          "name": "stdout",
          "text": [
            "Model: \"sequential\"\n",
            "_________________________________________________________________\n",
            " Layer (type)                Output Shape              Param #   \n",
            "=================================================================\n",
            " conv2d (Conv2D)             (None, 26, 26, 32)        320       \n",
            "                                                                 \n",
            " flatten (Flatten)           (None, 21632)             0         \n",
            "                                                                 \n",
            " dense (Dense)               (None, 128)               2769024   \n",
            "                                                                 \n",
            " dense_1 (Dense)             (None, 26)                3354      \n",
            "                                                                 \n",
            "=================================================================\n",
            "Total params: 2,772,698\n",
            "Trainable params: 2,772,698\n",
            "Non-trainable params: 0\n",
            "_________________________________________________________________\n"
          ]
        }
      ],
      "source": [
        "model1.summary()"
      ],
      "id": "0HJkG4On7hVg"
    },
    {
      "cell_type": "code",
      "execution_count": null,
      "metadata": {
        "colab": {
          "base_uri": "https://localhost:8080/"
        },
        "id": "-u5i952E7jhm",
        "outputId": "5cf48b4a-8917-4fc1-fdf6-e825e65838c1"
      },
      "outputs": [
        {
          "output_type": "stream",
          "name": "stdout",
          "text": [
            "Epoch 1/50\n",
            "99/99 [==============================] - 10s 99ms/step - loss: 0.8422 - accuracy: 0.7241\n",
            "Epoch 2/50\n",
            "99/99 [==============================] - 7s 73ms/step - loss: 0.7995 - accuracy: 0.7343\n",
            "Epoch 3/50\n",
            "99/99 [==============================] - 7s 73ms/step - loss: 0.7559 - accuracy: 0.7504\n",
            "Epoch 4/50\n",
            "99/99 [==============================] - 7s 73ms/step - loss: 0.7235 - accuracy: 0.7596\n",
            "Epoch 5/50\n",
            "99/99 [==============================] - 7s 73ms/step - loss: 0.7115 - accuracy: 0.7640\n",
            "Epoch 6/50\n",
            "99/99 [==============================] - 7s 73ms/step - loss: 0.6848 - accuracy: 0.7701\n",
            "Epoch 7/50\n",
            "99/99 [==============================] - 7s 73ms/step - loss: 0.7162 - accuracy: 0.7670\n",
            "Epoch 8/50\n",
            "99/99 [==============================] - 7s 74ms/step - loss: 0.6941 - accuracy: 0.7702\n",
            "Epoch 9/50\n",
            "99/99 [==============================] - 7s 74ms/step - loss: 0.6392 - accuracy: 0.7912\n",
            "Epoch 10/50\n",
            "99/99 [==============================] - 7s 74ms/step - loss: 0.6375 - accuracy: 0.7894\n",
            "Epoch 11/50\n",
            "99/99 [==============================] - 7s 74ms/step - loss: 0.5911 - accuracy: 0.8060\n",
            "Epoch 12/50\n",
            "99/99 [==============================] - 7s 74ms/step - loss: 0.5997 - accuracy: 0.8013\n",
            "Epoch 13/50\n",
            "99/99 [==============================] - 7s 74ms/step - loss: 0.5818 - accuracy: 0.8100\n",
            "Epoch 14/50\n",
            "99/99 [==============================] - 7s 74ms/step - loss: 0.5754 - accuracy: 0.8110\n",
            "Epoch 15/50\n",
            "99/99 [==============================] - 7s 74ms/step - loss: 0.5645 - accuracy: 0.8133\n",
            "Epoch 16/50\n",
            "99/99 [==============================] - 7s 74ms/step - loss: 0.5546 - accuracy: 0.8162\n",
            "Epoch 17/50\n",
            "99/99 [==============================] - 7s 74ms/step - loss: 0.5646 - accuracy: 0.8160\n",
            "Epoch 18/50\n",
            "99/99 [==============================] - 7s 74ms/step - loss: 0.5622 - accuracy: 0.8167\n",
            "Epoch 19/50\n",
            "99/99 [==============================] - 7s 74ms/step - loss: 0.5712 - accuracy: 0.8103\n",
            "Epoch 20/50\n",
            "99/99 [==============================] - 7s 74ms/step - loss: 0.5520 - accuracy: 0.8215\n",
            "Epoch 21/50\n",
            "99/99 [==============================] - 7s 74ms/step - loss: 0.5277 - accuracy: 0.8236\n",
            "Epoch 22/50\n",
            "99/99 [==============================] - 7s 74ms/step - loss: 0.5110 - accuracy: 0.8294\n",
            "Epoch 23/50\n",
            "99/99 [==============================] - 7s 74ms/step - loss: 0.4882 - accuracy: 0.8367\n",
            "Epoch 24/50\n",
            "99/99 [==============================] - 7s 74ms/step - loss: 0.4684 - accuracy: 0.8463\n",
            "Epoch 25/50\n",
            "99/99 [==============================] - 7s 74ms/step - loss: 0.4771 - accuracy: 0.8445\n",
            "Epoch 26/50\n",
            "99/99 [==============================] - 7s 74ms/step - loss: 0.4908 - accuracy: 0.8395\n",
            "Epoch 27/50\n",
            "99/99 [==============================] - 7s 74ms/step - loss: 0.4767 - accuracy: 0.8442\n",
            "Epoch 28/50\n",
            "99/99 [==============================] - 7s 74ms/step - loss: 0.4644 - accuracy: 0.8494\n",
            "Epoch 29/50\n",
            "99/99 [==============================] - 7s 74ms/step - loss: 0.4509 - accuracy: 0.8535\n",
            "Epoch 30/50\n",
            "99/99 [==============================] - 7s 73ms/step - loss: 0.4630 - accuracy: 0.8515\n",
            "Epoch 31/50\n",
            "99/99 [==============================] - 7s 74ms/step - loss: 0.4626 - accuracy: 0.8505\n",
            "Epoch 32/50\n",
            "99/99 [==============================] - 7s 74ms/step - loss: 0.4488 - accuracy: 0.8554\n",
            "Epoch 33/50\n",
            "99/99 [==============================] - 8s 77ms/step - loss: 0.4571 - accuracy: 0.8535\n",
            "Epoch 34/50\n",
            "99/99 [==============================] - 7s 74ms/step - loss: 0.4216 - accuracy: 0.8605\n",
            "Epoch 35/50\n",
            "99/99 [==============================] - 7s 73ms/step - loss: 0.4343 - accuracy: 0.8608\n",
            "Epoch 36/50\n",
            "99/99 [==============================] - 7s 73ms/step - loss: 0.4348 - accuracy: 0.8651\n",
            "Epoch 37/50\n",
            "99/99 [==============================] - 7s 74ms/step - loss: 0.4358 - accuracy: 0.8654\n",
            "Epoch 38/50\n",
            "99/99 [==============================] - 7s 74ms/step - loss: 0.4312 - accuracy: 0.8626\n",
            "Epoch 39/50\n",
            "99/99 [==============================] - 7s 73ms/step - loss: 0.4513 - accuracy: 0.8578\n",
            "Epoch 40/50\n",
            "99/99 [==============================] - 7s 74ms/step - loss: 0.4321 - accuracy: 0.8668\n",
            "Epoch 41/50\n",
            "99/99 [==============================] - 7s 74ms/step - loss: 0.4038 - accuracy: 0.8727\n",
            "Epoch 42/50\n",
            "99/99 [==============================] - 7s 74ms/step - loss: 0.3847 - accuracy: 0.8810\n",
            "Epoch 43/50\n",
            "99/99 [==============================] - 7s 74ms/step - loss: 0.3767 - accuracy: 0.8826\n",
            "Epoch 44/50\n",
            "99/99 [==============================] - 7s 73ms/step - loss: 0.3575 - accuracy: 0.8904\n",
            "Epoch 45/50\n",
            "99/99 [==============================] - 7s 73ms/step - loss: 0.3629 - accuracy: 0.8896\n",
            "Epoch 46/50\n",
            "99/99 [==============================] - 7s 74ms/step - loss: 0.3890 - accuracy: 0.8806\n",
            "Epoch 47/50\n",
            "99/99 [==============================] - 7s 74ms/step - loss: 0.3781 - accuracy: 0.8828\n",
            "Epoch 48/50\n",
            "99/99 [==============================] - 7s 74ms/step - loss: 0.3673 - accuracy: 0.8884\n",
            "Epoch 49/50\n",
            "99/99 [==============================] - 8s 76ms/step - loss: 0.3989 - accuracy: 0.8777\n",
            "Epoch 50/50\n",
            "99/99 [==============================] - 8s 76ms/step - loss: 0.4149 - accuracy: 0.8734\n"
          ]
        },
        {
          "output_type": "execute_result",
          "data": {
            "text/plain": [
              "<keras.callbacks.History at 0x7f4bd2952d50>"
            ]
          },
          "metadata": {},
          "execution_count": 32
        }
      ],
      "source": [
        "model1.fit(xx_n_train, y_n_train, epochs=50, batch_size = 100)"
      ],
      "id": "-u5i952E7jhm"
    },
    {
      "cell_type": "code",
      "execution_count": null,
      "metadata": {
        "id": "8gk8m9rsWmBz",
        "colab": {
          "base_uri": "https://localhost:8080/"
        },
        "outputId": "d97c5bec-f6a0-4b92-d021-4ef1f4067c95"
      },
      "outputs": [
        {
          "output_type": "stream",
          "name": "stdout",
          "text": [
            "310/310 [==============================] - 3s 10ms/step - loss: 0.3888 - accuracy: 0.8843\n"
          ]
        },
        {
          "output_type": "execute_result",
          "data": {
            "text/plain": [
              "[0.38876843452453613, 0.8843434453010559]"
            ]
          },
          "metadata": {},
          "execution_count": 33
        }
      ],
      "source": [
        "model1.evaluate(xx_n_train, y_n_train)"
      ],
      "id": "8gk8m9rsWmBz"
    },
    {
      "cell_type": "code",
      "execution_count": null,
      "metadata": {
        "colab": {
          "base_uri": "https://localhost:8080/"
        },
        "id": "kUmMGycZeiEm",
        "outputId": "726c123d-6cb1-4600-c54f-92d74a899482"
      },
      "outputs": [
        {
          "output_type": "stream",
          "name": "stdout",
          "text": [
            "250/250 [==============================] - 3s 11ms/step - loss: 3.2393 - accuracy: 0.6395\n"
          ]
        },
        {
          "output_type": "execute_result",
          "data": {
            "text/plain": [
              "[3.2393088340759277, 0.6395000219345093]"
            ]
          },
          "metadata": {},
          "execution_count": 34
        }
      ],
      "source": [
        "model1.evaluate(x_train, y_train)"
      ],
      "id": "kUmMGycZeiEm"
    }
  ],
  "metadata": {
    "colab": {
      "name": "Секу 3.1.ipynb",
      "provenance": [],
      "collapsed_sections": []
    },
    "kernelspec": {
      "display_name": "Python 3",
      "language": "python",
      "name": "python3"
    },
    "language_info": {
      "codemirror_mode": {
        "name": "ipython",
        "version": 3
      },
      "file_extension": ".py",
      "mimetype": "text/x-python",
      "name": "python",
      "nbconvert_exporter": "python",
      "pygments_lexer": "ipython3",
      "version": "3.8.10"
    }
  },
  "nbformat": 4,
  "nbformat_minor": 5
}